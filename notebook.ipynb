{
 "cells": [
  {
   "cell_type": "code",
   "execution_count": 4,
   "metadata": {},
   "outputs": [
    {
     "data": {
      "text/plain": [
       "' fruit that is grown on trees. It is a type of fruit that is round and has a red or green color. The apple is a popular fruit that is eaten by many people around the world. It is also used in cooking, baking, and other food preparations.\\nThe apple tree is a deciduous tree that grows to about 20-30 feet tall. Its leaves are green and oval-shaped, with a pointed tip. The flowers of the apple tree bloom in the springtime and produce small, yellow fruit called apples. The apple tree requires plenty of sunlight and well-draining soil to grow properly.\\n\\nThe apple is a nutritious fruit that contains many vitamins and minerals such as vitamin C, potassium, and fiber. It also has antioxidants that help protect against heart disease and cancer. Eating apples can improve digestion, boost the immune system, and promote healthy skin.\\n\\nApples are grown in many parts of the world, including North America, Europe, Asia, Africa, and South America. They are a popular fruit in many cultures and have been cultivated for thousands of years. The apple is also used in religious ceremonies and celebrations around the world.'"
      ]
     },
     "execution_count": 4,
     "metadata": {},
     "output_type": "execute_result"
    }
   ],
   "source": [
    "from langchain.llms import GPT4All\n",
    "from langchain.prompts import PromptTemplate\n",
    "\n",
    "prompt = PromptTemplate.from_template(\"A {word} is a\")\n",
    "\n",
    "llm = GPT4All(\n",
    "    model=\"./falcon.bin\",\n",
    ")\n",
    "\n",
    "chain = prompt | llm\n",
    "\n",
    "chain.invoke({\"word\": \"Apple\"})"
   ]
  }
 ],
 "metadata": {
  "kernelspec": {
   "display_name": "env",
   "language": "python",
   "name": "python3"
  },
  "language_info": {
   "codemirror_mode": {
    "name": "ipython",
    "version": 3
   },
   "file_extension": ".py",
   "mimetype": "text/x-python",
   "name": "python",
   "nbconvert_exporter": "python",
   "pygments_lexer": "ipython3",
   "version": "3.9.6"
  }
 },
 "nbformat": 4,
 "nbformat_minor": 2
}
